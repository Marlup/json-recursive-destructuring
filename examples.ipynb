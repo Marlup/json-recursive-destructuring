{
 "cells": [
  {
   "cell_type": "code",
   "execution_count": 17,
   "id": "c9a6f338",
   "metadata": {},
   "outputs": [],
   "source": [
    "import json\n",
    "import random\n",
    "import string\n",
    "from pprint import pprint\n",
    "from recursion_destructuring import( direct_recursive_destructure, \n",
    "                                     indirect_recursive_json_destructure\n",
    "                                     )"
   ]
  },
  {
   "cell_type": "code",
   "execution_count": 2,
   "id": "c907182a",
   "metadata": {},
   "outputs": [
    {
     "name": "stdout",
     "output_type": "stream",
     "text": [
      "Random data has been generated and saved to 'random_data.json'.\n"
     ]
    }
   ],
   "source": [
    "def generate_random_data(levels):\n",
    "    if levels == 0:\n",
    "        return random.randint(1, 100)\n",
    "    \n",
    "    data = {}\n",
    "    num_keys = random.randint(2, 5)\n",
    "    for _ in range(num_keys):\n",
    "        key = ''.join(random.choices(string.ascii_letters, k=5))\n",
    "        value = generate_random_data(levels - 1)\n",
    "        data[key] = value\n",
    "    return data\n",
    "\n",
    "nested_levels = random.randint(3, 5)\n",
    "nested_data = generate_random_data(nested_levels)\n",
    "\n",
    "with open('random_data.json', 'w') as json_file:\n",
    "    json.dump(nested_data, json_file, indent=4)\n",
    "\n",
    "print(\"Random data has been generated and saved to 'random_data.json'.\")"
   ]
  },
  {
   "cell_type": "code",
   "execution_count": 3,
   "id": "8283e53a",
   "metadata": {},
   "outputs": [
    {
     "name": "stdout",
     "output_type": "stream",
     "text": [
      "{'rjGHU': {'CfDaA': {'OqLkI': {'UzNBe': 13,\n",
      "                               'VsCZb': 97,\n",
      "                               'qouYn': 84,\n",
      "                               'tbvXk': 13},\n",
      "                     'kIVHc': {'Hcnpx': 75,\n",
      "                               'MEFue': 99,\n",
      "                               'RjZHT': 21,\n",
      "                               'mzLNg': 43,\n",
      "                               'qEhNM': 47},\n",
      "                     'kzjHI': {'Noite': 31, 'bEdAD': 37, 'yIcfV': 52}},\n",
      "           'uRnZw': {'MgVJB': {'HbTxR': 39, 'sdxXs': 94},\n",
      "                     'WoyPD': {'EpSwD': 15,\n",
      "                               'JjWJi': 91,\n",
      "                               'fVvmD': 81,\n",
      "                               'lOaTL': 72}},\n",
      "           'udXqk': {'BHfyM': {'JgSxJ': 1, 'oagUP': 80, 'sMZAz': 83},\n",
      "                     'ChjyC': {'BLZrI': 81,\n",
      "                               'ClPjp': 33,\n",
      "                               'hDSyX': 28,\n",
      "                               'sSdWN': 6},\n",
      "                     'VYagr': {'gEYYx': 57, 'nLoxq': 15},\n",
      "                     'knVCB': {'XsjxK': 81,\n",
      "                               'ZywaV': 58,\n",
      "                               'rKyJa': 90,\n",
      "                               'wRvRC': 34},\n",
      "                     'ynPqx': {'TgvAB': 74, 'ThLbO': 43}}},\n",
      " 'uOLnU': {'ERqag': {'SUjJF': {'KfDKm': 42,\n",
      "                               'YkUXE': 8,\n",
      "                               'htJRl': 38,\n",
      "                               'xULJy': 19},\n",
      "                     'TAoVV': {'OmIVT': 69, 'lGdVB': 78},\n",
      "                     'kHyLK': {'SNClk': 42, 'brjOa': 96}},\n",
      "           'fQjWW': {'RlqRk': {'LmFtu': 74, 'pskpt': 62, 'uIBnd': 88},\n",
      "                     'UJVOQ': {'PSgud': 76,\n",
      "                               'SxUVq': 40,\n",
      "                               'poiXd': 96,\n",
      "                               'sKCEm': 29},\n",
      "                     'pJFxo': {'LQmnU': 30,\n",
      "                               'QQrOk': 50,\n",
      "                               'eczgZ': 87,\n",
      "                               'lywte': 31}},\n",
      "           'iYhzC': {'WUwfO': {'cCoyN': 50,\n",
      "                               'eWAxf': 91,\n",
      "                               'krDoY': 56,\n",
      "                               'pOQXX': 48,\n",
      "                               'vJthR': 97},\n",
      "                     'thiUZ': {'ASdpS': 37,\n",
      "                               'EZKWs': 61,\n",
      "                               'lXXbZ': 67,\n",
      "                               'pxsfn': 60},\n",
      "                     'vPPbb': {'KPCiv': 95, 'WdqEE': 7, 'YOMBW': 14}},\n",
      "           'tOdJi': {'TynQi': {'ClVjX': 24,\n",
      "                               'OVSDw': 94,\n",
      "                               'bcWZz': 51,\n",
      "                               'ftCGq': 34,\n",
      "                               'yMFdS': 39},\n",
      "                     'vQTNU': {'Lgkvl': 14, 'vniJG': 71}}}}\n"
     ]
    }
   ],
   "source": [
    "pprint.pprint(nested_data)"
   ]
  },
  {
   "cell_type": "code",
   "execution_count": 4,
   "id": "96451640",
   "metadata": {},
   "outputs": [],
   "source": [
    "json_test1 = {\n",
    "    'x': {\"a\": 1, \n",
    "          \"b\": {\"ba\": 1.2, \n",
    "                \"bb\": 2.2, \n",
    "                \"bc\": 2.3, \n",
    "                \"bd\": 2.4}, \n",
    "          \"c\": 2},\n",
    "    'y': 3,\n",
    "    'z': {\"c\": 4, \n",
    "          \"d\": 5},\n",
    "    't': {\"e\": {\"f\": 6, \n",
    "                \"g\": 7, \n",
    "                \"h\": 8}, \n",
    "          \"i\": [9, 10, 11, 12]}\n",
    "}"
   ]
  },
  {
   "cell_type": "code",
   "execution_count": 5,
   "id": "7bb9e102",
   "metadata": {},
   "outputs": [
    {
     "name": "stdout",
     "output_type": "stream",
     "text": [
      "{'t': {'e': {'f': 6, 'g': 7, 'h': 8}, 'i': [9, 10, 11, 12]},\n",
      " 'x': {'a': 1, 'b': {'ba': 1.2, 'bb': 2.2, 'bc': 2.3, 'bd': 2.4}, 'c': 2},\n",
      " 'y': 3,\n",
      " 'z': {'c': 4, 'd': 5}}\n"
     ]
    }
   ],
   "source": [
    "pprint.pprint(json_test1)"
   ]
  },
  {
   "cell_type": "code",
   "execution_count": 36,
   "id": "c39fa9f5",
   "metadata": {},
   "outputs": [
    {
     "name": "stdout",
     "output_type": "stream",
     "text": [
      "{'@context': 'https://schema.org',\n",
      " '@type': 'NewsArticle',\n",
      " 'articleBody': 'El 11 de noviembre del aÃ±o pasado, FTX, la plataforma de '\n",
      "                'criptomonedas mÃ¡s grande del mundo, quebrÃ³. Un mes '\n",
      "                'despuÃ©s, Sam Bankman-Fried, de 31 aÃ±os, su fundador, fue '\n",
      "                'arrestado en las Bahamas, acusado de fraude y lavado de '\n",
      "                'dinero. En agosto, despuÃ©s de meses bajo arresto '\n",
      "                'domiciliario',\n",
      " 'articleSection': {'@list': ['personajes,']},\n",
      " 'author': {'@type': 'Person', 'name': 'plizeviche'},\n",
      " 'dateModified': '2023-10-12T10:20:01Z',\n",
      " 'datePublished': '2023-10-11T16:37:08Z',\n",
      " 'description': 'Sam Bankman-Fried era el rey de las criptomonedas. Su empresa '\n",
      "                'llegÃ³ a valer 32 mil millones de dÃ³lares. Ahora se sienta '\n",
      "                'en al banquillo por uno de los mayores escÃ¡ndalos '\n",
      "                'financieros de la historia. Â¿CÃ³mo pudo ocurrir? Michael '\n",
      "                'Lewis, el autor de The Big Short y Moneyball, conociÃ³ a '\n",
      "                'Bankman-Fried cuando estaba reescribiendo las reglas de las '\n",
      "                'finanzas mundiales, y estuvo a su lado cuando el imperio '\n",
      "                'implosionÃ³. Y tampoco lo vio venir...',\n",
      " 'hasPart': {'@type': 'WebPageElement',\n",
      "             'cssSelector': '.container-wall-exclusive',\n",
      "             'isAccessibleForFree': False},\n",
      " 'headline': 'Â¿Por quÃ© nadie vio que el rey de las criptomonedas era un '\n",
      "             'fraude? (el escritor Michael Lewis lo sabe)',\n",
      " 'image': {'@type': 'ImageObject',\n",
      "           'height': 1190,\n",
      "           'url': 'https://www.abc.es/xlsemanal/wp-content/uploads/sites/5/2023/10/sam-bankman-fried-criptotimador-1.jpg',\n",
      "           'width': 1248},\n",
      " 'isAccessibleForFree': False,\n",
      " 'isPartOf': {'@type': ['CreativeWork', 'Product'],\n",
      "              'name': 'Abc',\n",
      "              'productID': 'abc.es:onplus'},\n",
      " 'mainEntityOfPage': {'@id': 'https://www.abc.es/xlsemanal/personajes/sam-bankman-fried-criptotimador-por-escritor-michael-lewis.html',\n",
      "                      '@type': 'WebPage'},\n",
      " 'publisher': {'@type': 'Organization',\n",
      "               'logo': {'@type': 'ImageObject',\n",
      "                        'height': 60,\n",
      "                        'url': 'https://www.abc.es/xlsemanal/wp-content/themes/xlsemanal/assets/img/logo-xlsemanal-positivo.svg',\n",
      "                        'width': 180},\n",
      "               'name': 'XL Semanal'}}\n"
     ]
    }
   ],
   "source": [
    "with open(\"news_article_2.json\", \"r\") as file:\n",
    "    article_json_test2 = json.load(file)\n",
    "pprint(article_json_test2)"
   ]
  },
  {
   "cell_type": "code",
   "execution_count": 37,
   "id": "a09e8e38",
   "metadata": {},
   "outputs": [
    {
     "data": {
      "text/plain": [
       "(15, 37, 0, 37, 1)"
      ]
     },
     "execution_count": 37,
     "metadata": {},
     "output_type": "execute_result"
    }
   ],
   "source": [
    "only_keys1, keys_with_their_values1, trailed_keys1, returned_n_nestings1 = direct_recursive_destructure(article_json_test2)\n",
    "len(only_keys1), len(keys_with_their_values1), len(trailed_keys1), len(keys_with_their_values1), returned_n_nestings1"
   ]
  },
  {
   "cell_type": "code",
   "execution_count": 38,
   "id": "f15fd937",
   "metadata": {},
   "outputs": [
    {
     "data": {
      "text/plain": [
       "['@context',\n",
       " '@type',\n",
       " 'mainEntityOfPage',\n",
       " 'headline',\n",
       " 'image',\n",
       " 'datePublished',\n",
       " 'dateModified',\n",
       " 'publisher',\n",
       " 'author',\n",
       " 'isPartOf',\n",
       " 'description',\n",
       " 'articleBody',\n",
       " 'articleSection',\n",
       " 'isAccessibleForFree',\n",
       " 'hasPart']"
      ]
     },
     "execution_count": 38,
     "metadata": {},
     "output_type": "execute_result"
    }
   ],
   "source": [
    "only_keys1"
   ]
  },
  {
   "cell_type": "code",
   "execution_count": 40,
   "id": "e8f2cc23",
   "metadata": {},
   "outputs": [
    {
     "data": {
      "text/plain": [
       "[]"
      ]
     },
     "execution_count": 40,
     "metadata": {},
     "output_type": "execute_result"
    }
   ],
   "source": [
    "trailed_keys1"
   ]
  },
  {
   "cell_type": "code",
   "execution_count": 30,
   "id": "bb601309",
   "metadata": {},
   "outputs": [
    {
     "name": "stdout",
     "output_type": "stream",
     "text": [
      "3 86 27\n",
      "\n"
     ]
    }
   ],
   "source": [
    "only_keys2, keys_values2, trailed_keys2, only_pairs2, n_nestings2, steps2 = indirect_recursive_json_destructure(article_json_test2)\n",
    "print(n_nestings2, steps2, len(keys_values2), end=\"\\n\\n\")"
   ]
  },
  {
   "cell_type": "code",
   "execution_count": 31,
   "id": "acdcbf26",
   "metadata": {},
   "outputs": [
    {
     "name": "stdout",
     "output_type": "stream",
     "text": [
      "19.9 µs ± 271 ns per loop (mean ± std. dev. of 7 runs, 100000 loops each)\n",
      "54.8 µs ± 401 ns per loop (mean ± std. dev. of 7 runs, 10000 loops each)\n"
     ]
    }
   ],
   "source": [
    "%timeit dir_recursive_json_destructure(article_json_test2)\n",
    "%timeit indir_recursive_json_destructure(article_json_test2)"
   ]
  },
  {
   "cell_type": "code",
   "execution_count": 93,
   "id": "88982d0d",
   "metadata": {},
   "outputs": [
    {
     "data": {
      "text/plain": [
       "['@context',\n",
       " '@type',\n",
       " 'articleBody',\n",
       " 'articleSection',\n",
       " 'author',\n",
       " 'dateModified',\n",
       " 'datePublished',\n",
       " 'dateline',\n",
       " 'description',\n",
       " 'headline',\n",
       " 'image',\n",
       " '@type',\n",
       " 'height',\n",
       " 'url',\n",
       " 'width',\n",
       " '@type',\n",
       " 'name',\n",
       " 'productID',\n",
       " '@id',\n",
       " '@type',\n",
       " '@id',\n",
       " '@type',\n",
       " 'logo',\n",
       " '@type',\n",
       " 'height',\n",
       " 'url',\n",
       " 'width',\n",
       " '@type',\n",
       " 'xpath']"
      ]
     },
     "execution_count": 93,
     "metadata": {},
     "output_type": "execute_result"
    }
   ],
   "source": [
    "only_keys2"
   ]
  },
  {
   "cell_type": "code",
   "execution_count": 94,
   "id": "50d93e17",
   "metadata": {},
   "outputs": [
    {
     "data": {
      "text/plain": [
       "['@context-@type-articleBody-articleSection-author-dateModified-datePublished-dateline-description-headline-image-@type-height-url-width',\n",
       " '@type-name-productID',\n",
       " '@id-@type',\n",
       " '@id-@type-logo-@type-height-url-width',\n",
       " '@type-xpath']"
      ]
     },
     "execution_count": 94,
     "metadata": {},
     "output_type": "execute_result"
    }
   ],
   "source": [
    "trailed_keys2"
   ]
  },
  {
   "cell_type": "code",
   "execution_count": 95,
   "id": "6582ddf6",
   "metadata": {},
   "outputs": [
    {
     "data": {
      "text/plain": [
       "[('@context', 'https://schema.org'),\n",
       " ('@type', 'NewsArticle'),\n",
       " ('articleBody',\n",
       "  'Nuevo incidente con una embarcación pesquera española en las aguas que rodean Gibraltar . Ocurrió ayer, según relató a ABC el gerente de la Organización de Productores Pesqueros Artesanales Conil/La Atunara, Nicolás Fernández . Se trata de otro pesquero con base en La Línea de la Concepción (Cádiz) que acudió a este caladero para capturar melva «y cuando llegó ya lo estaban esperando los de Medio Ambiente de Gibraltar. Es más de lo mismo. Ha sido coaccionado y hostigado por intentar faenar donde siempre ».Es el segundo hostigamiento de las autoridades del Peñón a pesqueros andaluces. El pasado 21 de agosto, la Policía gibraltareña retuvo a un pesquero español y acusó a su patrón de graves delitos supuestamente cometidos en aguas que España reclama como propias según establece el Tratado de Utrecht. El pesquero pudo seguir su curso tras la denuncia .ReincidenciaEl nuevo incidente, apenas nueve días después, ha sido confirmado por la Policía de Gibraltar . Ocurrió ayer poco después de las nueve de la mañana. El patrón, un español de 33 años, ha sido denunciado por agentes de la Sección Marítima de la Policía Real de Gibraltar asistidos por el Departamento de Medio Ambiente y la Sección Marítima del Servicio de Aduanas de la colonia británica. Nicolás Fernández condena lo que está ocurriendo, y recuerda que lleva produciéndose años porque Gibraltar considera que dichas aguas son de soberanía británica, algo que no reconoce España.Aunque el dirigente de la patronal pesquera agradece la protesta formulada por el Ministerio de Asuntos Exteriores a Reino Unido por estos hechos, considera que este conflicto debería haber sido resuelto «hace muchos años. Estas llamadas de atención por parte del Gobierno son necesarias pero este problema no es nuevo. No vamos a dejar de pelear, vamos a seguir poniendo de manifiesto que es un abuso de las autoridades de Gibraltar. O se sientan a establecer los límites de las aguas en las que pueden faenar los barcos nacionales o toman cartas en el asunto o tendrán que desplegar a las Fuerzas de Seguridad y al Ejército para que los pescadores puedan faenar», dijo.En ese sentido, Fernández anunció que hoy, viernes, mantendrá una reunión con el alcalde de La Línea de la Concepción, Juan Franco, un encuentro sobre el que no han querido adelantar acontecimientos ni el orden del día a tratar.Cabe recordar que desde este sector se exigió la semana pasada a los Gobiernos de España y del Peñón que se sentaran a establecer los límites de las aguas en las que pueden faenar los barcos nacionales, ante los repetidos incidentes que se están produciendo en esa zona. «Nosotros no vamos a dejar de pelear, vamos a seguir poniendo de manifiesto que es un abuso de las autoridades de Gibraltar», manifestaba Fernández entonces, advirtiendo que «o se sientan y toman cartas en el asunto, o tendrán que poner fuerzas de seguridad y al Ejército para que los pescadores puedan pescar».'),\n",
       " ('articleSection', 'andalucia'),\n",
       " ('dateModified', '2023-09-01T04:23:30+02:00'),\n",
       " ('datePublished', '2023-09-01T04:23:30+02:00'),\n",
       " ('dateline', 'Spain'),\n",
       " ('description',\n",
       "  '«Ha sido coaccionado y hostigado por intentar faenar donde siempre», dicen los pescadores'),\n",
       " ('headline', 'Gibraltar vuelve a impedir faenar a otro pesquero español'),\n",
       " ('@type', 'ImageObject'),\n",
       " ('height', '840'),\n",
       " ('url',\n",
       "  'https://s1.abcstatics.com/abc/sevilla/multimedia/andalucia/2023/08/31/pesquero-R5tPJ4D7aYBzgHpDl22q2eI-1200x840@abc.jpg'),\n",
       " ('width', '1200'),\n",
       " ('name', 'ABC de Sevilla'),\n",
       " ('productID', 'sevilla.abc.es:premium'),\n",
       " ('@id',\n",
       "  'https://sevilla.abc.es/andalucia/cadiz/gibraltar-vuelve-impedir-faenar-pesquero-espanol-20230901234418-nts.html'),\n",
       " ('@type', 'WebPage'),\n",
       " ('@id', 'https://sevilla.abc.es/#publisher'),\n",
       " ('@type', 'Organization'),\n",
       " ('@type', 'ImageObject'),\n",
       " ('height', 60),\n",
       " ('url', 'https://static3-sevilla.abc.es/2015/img/logo-andalucia.png'),\n",
       " ('width', 444),\n",
       " ('@type', 'SpeakableSpecification')]"
      ]
     },
     "execution_count": 95,
     "metadata": {},
     "output_type": "execute_result"
    }
   ],
   "source": [
    "only_pairs2"
   ]
  },
  {
   "cell_type": "code",
   "execution_count": 106,
   "id": "73a29896",
   "metadata": {},
   "outputs": [
    {
     "data": {
      "text/plain": [
       "[('@context', 'https://schema.org'),\n",
       " ('@type', 'NewsArticle'),\n",
       " ('articleBody',\n",
       "  'Nuevo incidente con una embarcación pesquera española en las aguas que rodean Gibraltar . Ocurrió ayer, según relató a ABC el gerente de la Organización de Productores Pesqueros Artesanales Conil/La Atunara, Nicolás Fernández . Se trata de otro pesquero con base en La Línea de la Concepción (Cádiz) que acudió a este caladero para capturar melva «y cuando llegó ya lo estaban esperando los de Medio Ambiente de Gibraltar. Es más de lo mismo. Ha sido coaccionado y hostigado por intentar faenar donde siempre ».Es el segundo hostigamiento de las autoridades del Peñón a pesqueros andaluces. El pasado 21 de agosto, la Policía gibraltareña retuvo a un pesquero español y acusó a su patrón de graves delitos supuestamente cometidos en aguas que España reclama como propias según establece el Tratado de Utrecht. El pesquero pudo seguir su curso tras la denuncia .ReincidenciaEl nuevo incidente, apenas nueve días después, ha sido confirmado por la Policía de Gibraltar . Ocurrió ayer poco después de las nueve de la mañana. El patrón, un español de 33 años, ha sido denunciado por agentes de la Sección Marítima de la Policía Real de Gibraltar asistidos por el Departamento de Medio Ambiente y la Sección Marítima del Servicio de Aduanas de la colonia británica. Nicolás Fernández condena lo que está ocurriendo, y recuerda que lleva produciéndose años porque Gibraltar considera que dichas aguas son de soberanía británica, algo que no reconoce España.Aunque el dirigente de la patronal pesquera agradece la protesta formulada por el Ministerio de Asuntos Exteriores a Reino Unido por estos hechos, considera que este conflicto debería haber sido resuelto «hace muchos años. Estas llamadas de atención por parte del Gobierno son necesarias pero este problema no es nuevo. No vamos a dejar de pelear, vamos a seguir poniendo de manifiesto que es un abuso de las autoridades de Gibraltar. O se sientan a establecer los límites de las aguas en las que pueden faenar los barcos nacionales o toman cartas en el asunto o tendrán que desplegar a las Fuerzas de Seguridad y al Ejército para que los pescadores puedan faenar», dijo.En ese sentido, Fernández anunció que hoy, viernes, mantendrá una reunión con el alcalde de La Línea de la Concepción, Juan Franco, un encuentro sobre el que no han querido adelantar acontecimientos ni el orden del día a tratar.Cabe recordar que desde este sector se exigió la semana pasada a los Gobiernos de España y del Peñón que se sentaran a establecer los límites de las aguas en las que pueden faenar los barcos nacionales, ante los repetidos incidentes que se están produciendo en esa zona. «Nosotros no vamos a dejar de pelear, vamos a seguir poniendo de manifiesto que es un abuso de las autoridades de Gibraltar», manifestaba Fernández entonces, advirtiendo que «o se sientan y toman cartas en el asunto, o tendrán que poner fuerzas de seguridad y al Ejército para que los pescadores puedan pescar».'),\n",
       " ('articleSection', 'andalucia'),\n",
       " ('author',\n",
       "  \"[{'@type': 'Person', 'memberOf': {'@context': 'https://schema.org', '@type': 'NewsMediaOrganization', 'logo': {'@type': 'ImageObject', 'height': 192, 'url': 'https://s2.abcstatics.com/comun/2018/img/iconos-metas/favicon-192x192.png', 'width': 192}, 'name': 'ABC de Sevilla', 'url': 'https://sevilla.abc.es'}, 'name': 'Soraya Fernández', 'url': 'https://sevilla.abc.es/autor/soraya-fernandez-6267/'}]\"),\n",
       " ('dateModified', '2023-09-01T04:23:30+02:00'),\n",
       " ('datePublished', '2023-09-01T04:23:30+02:00'),\n",
       " ('dateline', 'Spain'),\n",
       " ('description',\n",
       "  '«Ha sido coaccionado y hostigado por intentar faenar donde siempre», dicen los pescadores'),\n",
       " ('headline', 'Gibraltar vuelve a impedir faenar a otro pesquero español'),\n",
       " ('@type', 'ImageObject'),\n",
       " ('height', '840'),\n",
       " ('url',\n",
       "  'https://s1.abcstatics.com/abc/sevilla/multimedia/andalucia/2023/08/31/pesquero-R5tPJ4D7aYBzgHpDl22q2eI-1200x840@abc.jpg'),\n",
       " ('width', '1200'),\n",
       " ('image', ('@type', 'height', 'url', 'width')),\n",
       " ('inLanguage', 'es'),\n",
       " ('isAccessibleForFree', 'True'),\n",
       " ('@type', \"['CreativeWork', 'Product']\"),\n",
       " ('name', 'ABC de Sevilla'),\n",
       " ('productID', 'sevilla.abc.es:premium'),\n",
       " ('isPartOf', ('@type', 'name', 'productID')),\n",
       " ('keywords', \"['Informaciones', 'Cádiz (Provincia)', 'ABC de Sevilla']\"),\n",
       " ('@id',\n",
       "  'https://sevilla.abc.es/andalucia/cadiz/gibraltar-vuelve-impedir-faenar-pesquero-espanol-20230901234418-nts.html'),\n",
       " ('@type', 'WebPage'),\n",
       " ('mainEntityOfPage', ('@id', '@type')),\n",
       " ('@id', 'https://sevilla.abc.es/#publisher'),\n",
       " ('@type', 'Organization'),\n",
       " ('@type', 'ImageObject'),\n",
       " ('height', '60'),\n",
       " ('url', 'https://static3-sevilla.abc.es/2015/img/logo-andalucia.png'),\n",
       " ('width', '444'),\n",
       " ('logo', ('@type', 'height', 'url', 'width')),\n",
       " ('name', 'ABC Andalucía'),\n",
       " ('sameAs',\n",
       "  \"['https://twitter.com/abcdesevilla/', 'https://www.facebook.com/abcdesevilla/', 'https://www.instagram.com/abcdesevilla/']\"),\n",
       " ('url', 'https://sevilla.abc.es'),\n",
       " ('publisher', ('@id', '@type', 'logo', 'name', 'sameAs', 'url')),\n",
       " ('@type', 'SpeakableSpecification'),\n",
       " ('xpath',\n",
       "  '[\\'/html/head/title\\', \"/html/head/meta[@name=\\'description\\']/@content\"]'),\n",
       " ('speakable', ('@type', 'xpath')),\n",
       " ('wordCount', '483')]"
      ]
     },
     "execution_count": 106,
     "metadata": {},
     "output_type": "execute_result"
    }
   ],
   "source": [
    "keys_with_their_values1"
   ]
  },
  {
   "cell_type": "markdown",
   "id": "f9822db7",
   "metadata": {},
   "source": [
    "### Case with no list as value"
   ]
  },
  {
   "cell_type": "code",
   "execution_count": 110,
   "id": "b777fc1c",
   "metadata": {},
   "outputs": [
    {
     "name": "stdout",
     "output_type": "stream",
     "text": [
      "{'@context': 'https://schema.org',\n",
      " '@type': 'NewsArticle',\n",
      " 'articleBody': 'Nuevo incidente con una embarcación pesquera española en las '\n",
      "                'aguas que rodean Gibraltar . Ocurrió ayer, según relató a ABC '\n",
      "                'el gerente de la Organización de Productores Pesqueros '\n",
      "                'Artesanales Conil/La Atunara, Nicolás Fernández . Se trata de '\n",
      "                'otro pesquero con base en La Línea de la Concepción (Cádiz) '\n",
      "                'que acudió a este caladero para capturar melva «y cuando '\n",
      "                'llegó ya lo estaban esperando los de Medio Ambiente de '\n",
      "                'Gibraltar. Es más de lo mismo. Ha sido coaccionado y '\n",
      "                'hostigado por intentar faenar donde siempre ».Es el segundo '\n",
      "                'hostigamiento de las autoridades del Peñón a pesqueros '\n",
      "                'andaluces. El pasado 21 de agosto, la Policía gibraltareña '\n",
      "                'retuvo a un pesquero español y acusó a su patrón de graves '\n",
      "                'delitos supuestamente cometidos en aguas que España reclama '\n",
      "                'como propias según establece el Tratado de Utrecht. El '\n",
      "                'pesquero pudo seguir su curso tras la denuncia '\n",
      "                '.ReincidenciaEl nuevo incidente, apenas nueve días después, '\n",
      "                'ha sido confirmado por la Policía de Gibraltar . Ocurrió ayer '\n",
      "                'poco después de las nueve de la mañana. El patrón, un español '\n",
      "                'de 33 años, ha sido denunciado por agentes de la Sección '\n",
      "                'Marítima de la Policía Real de Gibraltar asistidos por el '\n",
      "                'Departamento de Medio Ambiente y la Sección Marítima del '\n",
      "                'Servicio de Aduanas de la colonia británica. Nicolás '\n",
      "                'Fernández condena lo que está ocurriendo, y recuerda que '\n",
      "                'lleva produciéndose años porque Gibraltar considera que '\n",
      "                'dichas aguas son de soberanía británica, algo que no reconoce '\n",
      "                'España.Aunque el dirigente de la patronal pesquera agradece '\n",
      "                'la protesta formulada por el Ministerio de Asuntos Exteriores '\n",
      "                'a Reino Unido por estos hechos, considera que este conflicto '\n",
      "                'debería haber sido resuelto «hace muchos años. Estas llamadas '\n",
      "                'de atención por parte del Gobierno son necesarias pero este '\n",
      "                'problema no es nuevo. No vamos a dejar de pelear, vamos a '\n",
      "                'seguir poniendo de manifiesto que es un abuso de las '\n",
      "                'autoridades de Gibraltar. O se sientan a establecer los '\n",
      "                'límites de las aguas en las que pueden faenar los barcos '\n",
      "                'nacionales o toman cartas en el asunto o tendrán que '\n",
      "                'desplegar a las Fuerzas de Seguridad y al Ejército para que '\n",
      "                'los pescadores puedan faenar», dijo.En ese sentido, Fernández '\n",
      "                'anunció que hoy, viernes, mantendrá una reunión con el '\n",
      "                'alcalde de La Línea de la Concepción, Juan Franco, un '\n",
      "                'encuentro sobre el que no han querido adelantar '\n",
      "                'acontecimientos ni el orden del día a tratar.Cabe recordar '\n",
      "                'que desde este sector se exigió la semana pasada a los '\n",
      "                'Gobiernos de España y del Peñón que se sentaran a establecer '\n",
      "                'los límites de las aguas en las que pueden faenar los barcos '\n",
      "                'nacionales, ante los repetidos incidentes que se están '\n",
      "                'produciendo en esa zona. «Nosotros no vamos a dejar de '\n",
      "                'pelear, vamos a seguir poniendo de manifiesto que es un abuso '\n",
      "                'de las autoridades de Gibraltar», manifestaba Fernández '\n",
      "                'entonces, advirtiendo que «o se sientan y toman cartas en el '\n",
      "                'asunto, o tendrán que poner fuerzas de seguridad y al '\n",
      "                'Ejército para que los pescadores puedan pescar».',\n",
      " 'articleSection': 'andalucia',\n",
      " 'author': {'@type': 'Person',\n",
      "            'memberOf': {'@context': 'https://schema.org',\n",
      "                         '@type': 'NewsMediaOrganization',\n",
      "                         'logo': {'@type': 'ImageObject',\n",
      "                                  'height': 192,\n",
      "                                  'url': 'https://s2.abcstatics.com/comun/2018/img/iconos-metas/favicon-192x192.png',\n",
      "                                  'width': 192},\n",
      "                         'name': 'ABC de Sevilla',\n",
      "                         'url': 'https://sevilla.abc.es'},\n",
      "            'name': 'Soraya Fernández',\n",
      "            'url': 'https://sevilla.abc.es/autor/soraya-fernandez-6267/'},\n",
      " 'dateModified': '2023-09-01T04:23:30+02:00',\n",
      " 'datePublished': '2023-09-01T04:23:30+02:00',\n",
      " 'dateline': 'Spain',\n",
      " 'description': '«Ha sido coaccionado y hostigado por intentar faenar donde '\n",
      "                'siempre», dicen los pescadores',\n",
      " 'headline': 'Gibraltar vuelve a impedir faenar a otro pesquero español',\n",
      " 'image': {'@type': 'ImageObject',\n",
      "           'height': '840',\n",
      "           'url': 'https://s1.abcstatics.com/abc/sevilla/multimedia/andalucia/2023/08/31/pesquero-R5tPJ4D7aYBzgHpDl22q2eI-1200x840@abc.jpg',\n",
      "           'width': '1200'},\n",
      " 'inLanguage': 'es',\n",
      " 'isAccessibleForFree': 'True',\n",
      " 'isPartOf': {'@type': ['CreativeWork', 'Product'],\n",
      "              'name': 'ABC de Sevilla',\n",
      "              'productID': 'sevilla.abc.es:premium'},\n",
      " 'keywords': ['Informaciones', 'Cádiz (Provincia)', 'ABC de Sevilla'],\n",
      " 'mainEntityOfPage': {'@id': 'https://sevilla.abc.es/andalucia/cadiz/gibraltar-vuelve-impedir-faenar-pesquero-espanol-20230901234418-nts.html',\n",
      "                      '@type': 'WebPage'},\n",
      " 'publisher': {'@id': 'https://sevilla.abc.es/#publisher',\n",
      "               '@type': 'Organization',\n",
      "               'logo': {'@type': 'ImageObject',\n",
      "                        'height': 60,\n",
      "                        'url': 'https://static3-sevilla.abc.es/2015/img/logo-andalucia.png',\n",
      "                        'width': 444},\n",
      "               'name': 'ABC Andalucía',\n",
      "               'sameAs': ['https://twitter.com/abcdesevilla/',\n",
      "                          'https://www.facebook.com/abcdesevilla/',\n",
      "                          'https://www.instagram.com/abcdesevilla/'],\n",
      "               'url': 'https://sevilla.abc.es'},\n",
      " 'speakable': {'@type': 'SpeakableSpecification',\n",
      "               'xpath': ['/html/head/title',\n",
      "                         \"/html/head/meta[@name='description']/@content\"]},\n",
      " 'wordCount': '483'}\n"
     ]
    }
   ],
   "source": [
    "article_json_test3 = {\n",
    "    '@context': 'https://schema.org',\n",
    " '@type': 'NewsArticle',\n",
    " 'articleBody': 'Nuevo incidente con una embarcación pesquera española en las '\n",
    "                'aguas que rodean Gibraltar . Ocurrió ayer, según relató a ABC '\n",
    "                'el gerente de la Organización de Productores Pesqueros '\n",
    "                'Artesanales Conil/La Atunara, Nicolás Fernández . Se trata de '\n",
    "                'otro pesquero con base en La Línea de la Concepción (Cádiz) '\n",
    "                'que acudió a este caladero para capturar melva «y cuando '\n",
    "                'llegó ya lo estaban esperando los de Medio Ambiente de '\n",
    "                'Gibraltar. Es más de lo mismo. Ha sido coaccionado y '\n",
    "                'hostigado por intentar faenar donde siempre ».Es el segundo '\n",
    "                'hostigamiento de las autoridades del Peñón a pesqueros '\n",
    "                'andaluces. El pasado 21 de agosto, la Policía gibraltareña '\n",
    "                'retuvo a un pesquero español y acusó a su patrón de graves '\n",
    "                'delitos supuestamente cometidos en aguas que España reclama '\n",
    "                'como propias según establece el Tratado de Utrecht. El '\n",
    "                'pesquero pudo seguir su curso tras la denuncia '\n",
    "                '.ReincidenciaEl nuevo incidente, apenas nueve días después, '\n",
    "                'ha sido confirmado por la Policía de Gibraltar . Ocurrió ayer '\n",
    "                'poco después de las nueve de la mañana. El patrón, un español '\n",
    "                'de 33 años, ha sido denunciado por agentes de la Sección '\n",
    "                'Marítima de la Policía Real de Gibraltar asistidos por el '\n",
    "                'Departamento de Medio Ambiente y la Sección Marítima del '\n",
    "                'Servicio de Aduanas de la colonia británica. Nicolás '\n",
    "                'Fernández condena lo que está ocurriendo, y recuerda que '\n",
    "                'lleva produciéndose años porque Gibraltar considera que '\n",
    "                'dichas aguas son de soberanía británica, algo que no reconoce '\n",
    "                'España.Aunque el dirigente de la patronal pesquera agradece '\n",
    "                'la protesta formulada por el Ministerio de Asuntos Exteriores '\n",
    "                'a Reino Unido por estos hechos, considera que este conflicto '\n",
    "                'debería haber sido resuelto «hace muchos años. Estas llamadas '\n",
    "                'de atención por parte del Gobierno son necesarias pero este '\n",
    "                'problema no es nuevo. No vamos a dejar de pelear, vamos a '\n",
    "                'seguir poniendo de manifiesto que es un abuso de las '\n",
    "                'autoridades de Gibraltar. O se sientan a establecer los '\n",
    "                'límites de las aguas en las que pueden faenar los barcos '\n",
    "                'nacionales o toman cartas en el asunto o tendrán que '\n",
    "                'desplegar a las Fuerzas de Seguridad y al Ejército para que '\n",
    "                'los pescadores puedan faenar», dijo.En ese sentido, Fernández '\n",
    "                'anunció que hoy, viernes, mantendrá una reunión con el '\n",
    "                'alcalde de La Línea de la Concepción, Juan Franco, un '\n",
    "                'encuentro sobre el que no han querido adelantar '\n",
    "                'acontecimientos ni el orden del día a tratar.Cabe recordar '\n",
    "                'que desde este sector se exigió la semana pasada a los '\n",
    "                'Gobiernos de España y del Peñón que se sentaran a establecer '\n",
    "                'los límites de las aguas en las que pueden faenar los barcos '\n",
    "                'nacionales, ante los repetidos incidentes que se están '\n",
    "                'produciendo en esa zona. «Nosotros no vamos a dejar de '\n",
    "                'pelear, vamos a seguir poniendo de manifiesto que es un abuso '\n",
    "                'de las autoridades de Gibraltar», manifestaba Fernández '\n",
    "                'entonces, advirtiendo que «o se sientan y toman cartas en el '\n",
    "                'asunto, o tendrán que poner fuerzas de seguridad y al '\n",
    "                'Ejército para que los pescadores puedan pescar».',\n",
    " 'articleSection': 'andalucia',\n",
    " 'author': {'@type': 'Person',\n",
    "             'memberOf': {'@context': 'https://schema.org',\n",
    "                          '@type': 'NewsMediaOrganization',\n",
    "                          'logo': {'@type': 'ImageObject',\n",
    "                                   'height': 192,\n",
    "                                   'url': 'https://s2.abcstatics.com/comun/2018/img/iconos-metas/favicon-192x192.png',\n",
    "                                   'width': 192},\n",
    "                          'name': 'ABC de Sevilla',\n",
    "                          'url': 'https://sevilla.abc.es'},\n",
    "             'name': 'Soraya Fernández',\n",
    "             'url': 'https://sevilla.abc.es/autor/soraya-fernandez-6267/'},\n",
    " 'dateModified': '2023-09-01T04:23:30+02:00',\n",
    " 'datePublished': '2023-09-01T04:23:30+02:00',\n",
    " 'dateline': 'Spain',\n",
    " 'description': '«Ha sido coaccionado y hostigado por intentar faenar donde '\n",
    "                'siempre», dicen los pescadores',\n",
    " 'headline': 'Gibraltar vuelve a impedir faenar a otro pesquero español',\n",
    " 'image': {'@type': 'ImageObject',\n",
    "           'height': '840',\n",
    "           'url': 'https://s1.abcstatics.com/abc/sevilla/multimedia/andalucia/2023/08/31/pesquero-R5tPJ4D7aYBzgHpDl22q2eI-1200x840@abc.jpg',\n",
    "           'width': '1200'},\n",
    " 'inLanguage': 'es',\n",
    " 'isAccessibleForFree': 'True',\n",
    " 'isPartOf': {'@type': ['CreativeWork', 'Product'],\n",
    "              'name': 'ABC de Sevilla',\n",
    "              'productID': 'sevilla.abc.es:premium'},\n",
    " 'keywords': ['Informaciones', 'Cádiz (Provincia)', 'ABC de Sevilla'],\n",
    " 'mainEntityOfPage': {'@id': 'https://sevilla.abc.es/andalucia/cadiz/gibraltar-vuelve-impedir-faenar-pesquero-espanol-20230901234418-nts.html',\n",
    "                      '@type': 'WebPage'},\n",
    " 'publisher': {'@id': 'https://sevilla.abc.es/#publisher',\n",
    "               '@type': 'Organization',\n",
    "               'logo': {'@type': 'ImageObject',\n",
    "                        'height': 60,\n",
    "                        'url': 'https://static3-sevilla.abc.es/2015/img/logo-andalucia.png',\n",
    "                        'width': 444},\n",
    "               'name': 'ABC Andalucía',\n",
    "               'sameAs': ['https://twitter.com/abcdesevilla/',\n",
    "                          'https://www.facebook.com/abcdesevilla/',\n",
    "                          'https://www.instagram.com/abcdesevilla/'],\n",
    "               'url': 'https://sevilla.abc.es'},\n",
    " 'speakable': {'@type': 'SpeakableSpecification',\n",
    "               'xpath': ['/html/head/title',\n",
    "                         \"/html/head/meta[@name='description']/@content\"]},\n",
    " 'wordCount': '483'}\n",
    "pprint.pprint(article_json_test3)"
   ]
  },
  {
   "cell_type": "code",
   "execution_count": 109,
   "id": "505fe76f",
   "metadata": {},
   "outputs": [
    {
     "name": "stdout",
     "output_type": "stream",
     "text": [
      "4 120 28\n",
      "\n"
     ]
    }
   ],
   "source": [
    "only_keys3, keys_values3, trailed_keys3, only_pairs3, n_nestings3, steps3 = indirect_recursive_json_destructure(article_json_test3)\n",
    "print(n_nestings3, steps3, len(keys_values3), end=\"\\n\\n\")"
   ]
  },
  {
   "cell_type": "code",
   "execution_count": 111,
   "id": "3a17e77c",
   "metadata": {},
   "outputs": [
    {
     "data": {
      "text/plain": [
       "[('@context', 'https://schema.org'),\n",
       " ('@type', 'NewsArticle'),\n",
       " ('articleBody',\n",
       "  'Nuevo incidente con una embarcación pesquera española en las aguas que rodean Gibraltar . Ocurrió ayer, según relató a ABC el gerente de la Organización de Productores Pesqueros Artesanales Conil/La Atunara, Nicolás Fernández . Se trata de otro pesquero con base en La Línea de la Concepción (Cádiz) que acudió a este caladero para capturar melva «y cuando llegó ya lo estaban esperando los de Medio Ambiente de Gibraltar. Es más de lo mismo. Ha sido coaccionado y hostigado por intentar faenar donde siempre ».Es el segundo hostigamiento de las autoridades del Peñón a pesqueros andaluces. El pasado 21 de agosto, la Policía gibraltareña retuvo a un pesquero español y acusó a su patrón de graves delitos supuestamente cometidos en aguas que España reclama como propias según establece el Tratado de Utrecht. El pesquero pudo seguir su curso tras la denuncia .ReincidenciaEl nuevo incidente, apenas nueve días después, ha sido confirmado por la Policía de Gibraltar . Ocurrió ayer poco después de las nueve de la mañana. El patrón, un español de 33 años, ha sido denunciado por agentes de la Sección Marítima de la Policía Real de Gibraltar asistidos por el Departamento de Medio Ambiente y la Sección Marítima del Servicio de Aduanas de la colonia británica. Nicolás Fernández condena lo que está ocurriendo, y recuerda que lleva produciéndose años porque Gibraltar considera que dichas aguas son de soberanía británica, algo que no reconoce España.Aunque el dirigente de la patronal pesquera agradece la protesta formulada por el Ministerio de Asuntos Exteriores a Reino Unido por estos hechos, considera que este conflicto debería haber sido resuelto «hace muchos años. Estas llamadas de atención por parte del Gobierno son necesarias pero este problema no es nuevo. No vamos a dejar de pelear, vamos a seguir poniendo de manifiesto que es un abuso de las autoridades de Gibraltar. O se sientan a establecer los límites de las aguas en las que pueden faenar los barcos nacionales o toman cartas en el asunto o tendrán que desplegar a las Fuerzas de Seguridad y al Ejército para que los pescadores puedan faenar», dijo.En ese sentido, Fernández anunció que hoy, viernes, mantendrá una reunión con el alcalde de La Línea de la Concepción, Juan Franco, un encuentro sobre el que no han querido adelantar acontecimientos ni el orden del día a tratar.Cabe recordar que desde este sector se exigió la semana pasada a los Gobiernos de España y del Peñón que se sentaran a establecer los límites de las aguas en las que pueden faenar los barcos nacionales, ante los repetidos incidentes que se están produciendo en esa zona. «Nosotros no vamos a dejar de pelear, vamos a seguir poniendo de manifiesto que es un abuso de las autoridades de Gibraltar», manifestaba Fernández entonces, advirtiendo que «o se sientan y toman cartas en el asunto, o tendrán que poner fuerzas de seguridad y al Ejército para que los pescadores puedan pescar».'),\n",
       " ('articleSection', 'andalucia'),\n",
       " ('@type', 'Person'),\n",
       " ('@context', 'https://schema.org'),\n",
       " ('@type', 'NewsMediaOrganization'),\n",
       " ('@type', 'ImageObject'),\n",
       " ('height', 192),\n",
       " ('url',\n",
       "  'https://s2.abcstatics.com/comun/2018/img/iconos-metas/favicon-192x192.png'),\n",
       " ('width', 192),\n",
       " ('@type', 'ImageObject'),\n",
       " ('height', '840'),\n",
       " ('url',\n",
       "  'https://s1.abcstatics.com/abc/sevilla/multimedia/andalucia/2023/08/31/pesquero-R5tPJ4D7aYBzgHpDl22q2eI-1200x840@abc.jpg'),\n",
       " ('width', '1200'),\n",
       " ('name', 'ABC de Sevilla'),\n",
       " ('productID', 'sevilla.abc.es:premium'),\n",
       " ('@id',\n",
       "  'https://sevilla.abc.es/andalucia/cadiz/gibraltar-vuelve-impedir-faenar-pesquero-espanol-20230901234418-nts.html'),\n",
       " ('@type', 'WebPage'),\n",
       " ('@id', 'https://sevilla.abc.es/#publisher'),\n",
       " ('@type', 'Organization'),\n",
       " ('@type', 'ImageObject'),\n",
       " ('height', 60),\n",
       " ('url', 'https://static3-sevilla.abc.es/2015/img/logo-andalucia.png'),\n",
       " ('width', 444),\n",
       " ('@type', 'SpeakableSpecification')]"
      ]
     },
     "execution_count": 111,
     "metadata": {},
     "output_type": "execute_result"
    }
   ],
   "source": [
    "only_pairs3"
   ]
  },
  {
   "cell_type": "code",
   "execution_count": 112,
   "id": "436f8929",
   "metadata": {},
   "outputs": [
    {
     "data": {
      "text/plain": [
       "[('@context', 'https://schema.org'),\n",
       " ('@type', 'NewsArticle'),\n",
       " ('articleBody',\n",
       "  'Nuevo incidente con una embarcación pesquera española en las aguas que rodean Gibraltar . Ocurrió ayer, según relató a ABC el gerente de la Organización de Productores Pesqueros Artesanales Conil/La Atunara, Nicolás Fernández . Se trata de otro pesquero con base en La Línea de la Concepción (Cádiz) que acudió a este caladero para capturar melva «y cuando llegó ya lo estaban esperando los de Medio Ambiente de Gibraltar. Es más de lo mismo. Ha sido coaccionado y hostigado por intentar faenar donde siempre ».Es el segundo hostigamiento de las autoridades del Peñón a pesqueros andaluces. El pasado 21 de agosto, la Policía gibraltareña retuvo a un pesquero español y acusó a su patrón de graves delitos supuestamente cometidos en aguas que España reclama como propias según establece el Tratado de Utrecht. El pesquero pudo seguir su curso tras la denuncia .ReincidenciaEl nuevo incidente, apenas nueve días después, ha sido confirmado por la Policía de Gibraltar . Ocurrió ayer poco después de las nueve de la mañana. El patrón, un español de 33 años, ha sido denunciado por agentes de la Sección Marítima de la Policía Real de Gibraltar asistidos por el Departamento de Medio Ambiente y la Sección Marítima del Servicio de Aduanas de la colonia británica. Nicolás Fernández condena lo que está ocurriendo, y recuerda que lleva produciéndose años porque Gibraltar considera que dichas aguas son de soberanía británica, algo que no reconoce España.Aunque el dirigente de la patronal pesquera agradece la protesta formulada por el Ministerio de Asuntos Exteriores a Reino Unido por estos hechos, considera que este conflicto debería haber sido resuelto «hace muchos años. Estas llamadas de atención por parte del Gobierno son necesarias pero este problema no es nuevo. No vamos a dejar de pelear, vamos a seguir poniendo de manifiesto que es un abuso de las autoridades de Gibraltar. O se sientan a establecer los límites de las aguas en las que pueden faenar los barcos nacionales o toman cartas en el asunto o tendrán que desplegar a las Fuerzas de Seguridad y al Ejército para que los pescadores puedan faenar», dijo.En ese sentido, Fernández anunció que hoy, viernes, mantendrá una reunión con el alcalde de La Línea de la Concepción, Juan Franco, un encuentro sobre el que no han querido adelantar acontecimientos ni el orden del día a tratar.Cabe recordar que desde este sector se exigió la semana pasada a los Gobiernos de España y del Peñón que se sentaran a establecer los límites de las aguas en las que pueden faenar los barcos nacionales, ante los repetidos incidentes que se están produciendo en esa zona. «Nosotros no vamos a dejar de pelear, vamos a seguir poniendo de manifiesto que es un abuso de las autoridades de Gibraltar», manifestaba Fernández entonces, advirtiendo que «o se sientan y toman cartas en el asunto, o tendrán que poner fuerzas de seguridad y al Ejército para que los pescadores puedan pescar».'),\n",
       " ('articleSection', 'andalucia'),\n",
       " ('@type', 'Person'),\n",
       " ('@context', 'https://schema.org'),\n",
       " ('@type', 'NewsMediaOrganization'),\n",
       " ('@type', 'ImageObject'),\n",
       " ('height', 192),\n",
       " ('url',\n",
       "  'https://s2.abcstatics.com/comun/2018/img/iconos-metas/favicon-192x192.png'),\n",
       " ('width', 192),\n",
       " ('@type', 'ImageObject'),\n",
       " ('height', '840'),\n",
       " ('url',\n",
       "  'https://s1.abcstatics.com/abc/sevilla/multimedia/andalucia/2023/08/31/pesquero-R5tPJ4D7aYBzgHpDl22q2eI-1200x840@abc.jpg'),\n",
       " ('width', '1200'),\n",
       " ('@type', ('CreativeWork', 'Product')),\n",
       " ('name', 'ABC de Sevilla'),\n",
       " ('productID', 'sevilla.abc.es:premium'),\n",
       " ('@id',\n",
       "  'https://sevilla.abc.es/andalucia/cadiz/gibraltar-vuelve-impedir-faenar-pesquero-espanol-20230901234418-nts.html'),\n",
       " ('@type', 'WebPage'),\n",
       " ('@id', 'https://sevilla.abc.es/#publisher'),\n",
       " ('@type', 'Organization'),\n",
       " ('@type', 'ImageObject'),\n",
       " ('height', 60),\n",
       " ('url', 'https://static3-sevilla.abc.es/2015/img/logo-andalucia.png'),\n",
       " ('width', 444),\n",
       " ('@type', 'SpeakableSpecification'),\n",
       " ('xpath',\n",
       "  ('/html/head/title', \"/html/head/meta[@name='description']/@content\"))]"
      ]
     },
     "execution_count": 112,
     "metadata": {},
     "output_type": "execute_result"
    }
   ],
   "source": [
    "keys_values3"
   ]
  },
  {
   "cell_type": "code",
   "execution_count": null,
   "id": "40c26f7f",
   "metadata": {},
   "outputs": [],
   "source": []
  }
 ],
 "metadata": {
  "kernelspec": {
   "display_name": "Python 3 (ipykernel)",
   "language": "python",
   "name": "python3"
  },
  "language_info": {
   "codemirror_mode": {
    "name": "ipython",
    "version": 3
   },
   "file_extension": ".py",
   "mimetype": "text/x-python",
   "name": "python",
   "nbconvert_exporter": "python",
   "pygments_lexer": "ipython3",
   "version": "3.11.0"
  }
 },
 "nbformat": 4,
 "nbformat_minor": 5
}
